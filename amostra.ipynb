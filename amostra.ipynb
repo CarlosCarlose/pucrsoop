{
 "cells": [
  {
   "cell_type": "code",
   "execution_count": 1,
   "metadata": {},
   "outputs": [],
   "source": [
    "from documentacaoSteam import ler_arquivo_csv, AnoMaisFrequente, PorcentagemPreco, GeneroMaisPositivo"
   ]
  },
  {
   "cell_type": "code",
   "execution_count": 2,
   "metadata": {},
   "outputs": [],
   "source": [
    "anos, precos, generos_positivos = ler_arquivo_csv('dadosSTEAM_TESTE.csv')\n",
    "dados_ano = AnoMaisFrequente(anos)\n",
    "dados_preco = PorcentagemPreco(precos)\n",
    "dados_genero = GeneroMaisPositivo(generos_positivos)"
   ]
  },
  {
   "cell_type": "code",
   "execution_count": 3,
   "metadata": {},
   "outputs": [
    {
     "name": "stdout",
     "output_type": "stream",
     "text": [
      "Porcentagem de jogos gratuitos: 4.545454545454546%\n",
      "Porcentagem de jogos pagos: 95.45454545454545%\n"
     ]
    }
   ],
   "source": [
    "porcentagem_gratuitos, porcentagem_pagos = dados_preco.calcular_porcentagens()\n",
    "print(f'Porcentagem de jogos gratuitos: {porcentagem_gratuitos}%')\n",
    "print(f'Porcentagem de jogos pagos: {porcentagem_pagos}%')"
   ]
  },
  {
   "cell_type": "code",
   "execution_count": 4,
   "metadata": {},
   "outputs": [
    {
     "name": "stdout",
     "output_type": "stream",
     "text": [
      "O ano que mais obteve lançamentos na steam, foi: 2020\n"
     ]
    }
   ],
   "source": [
    "print(f'O ano que mais obteve lançamentos na steam, foi: {dados_ano.ano_mais_frequente()}')"
   ]
  },
  {
   "cell_type": "code",
   "execution_count": 5,
   "metadata": {},
   "outputs": [
    {
     "name": "stdout",
     "output_type": "stream",
     "text": [
      "O gênero com mais avaliações positivas em 2022 é: Massively Multiplayer,Racing,Simulation,Sports\n"
     ]
    }
   ],
   "source": [
    "print(f'O gênero com mais avaliações positivas em 2022 é: {dados_genero.genero_mais_positivo()}')"
   ]
  }
 ],
 "metadata": {
  "kernelspec": {
   "display_name": "Python 3",
   "language": "python",
   "name": "python3"
  },
  "language_info": {
   "codemirror_mode": {
    "name": "ipython",
    "version": 3
   },
   "file_extension": ".py",
   "mimetype": "text/x-python",
   "name": "python",
   "nbconvert_exporter": "python",
   "pygments_lexer": "ipython3",
   "version": "3.11.8"
  }
 },
 "nbformat": 4,
 "nbformat_minor": 2
}
